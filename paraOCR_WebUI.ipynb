{
  "nbformat": 4,
  "nbformat_minor": 0,
  "metadata": {
    "colab": {
      "provenance": [],
      "gpuType": "T4",
      "authorship_tag": "ABX9TyMQancOh04ElkGEendbvPiu",
      "include_colab_link": true
    },
    "kernelspec": {
      "name": "python3",
      "display_name": "Python 3"
    },
    "language_info": {
      "name": "python"
    },
    "accelerator": "GPU"
  },
  "cells": [
    {
      "cell_type": "markdown",
      "metadata": {
        "id": "view-in-github",
        "colab_type": "text"
      },
      "source": [
        "<a href=\"https://colab.research.google.com/github/phuocnguyen90/paraOCR/blob/main/paraOCR_WebUI.ipynb\" target=\"_parent\"><img src=\"https://colab.research.google.com/assets/colab-badge.svg\" alt=\"Open In Colab\"/></a>"
      ]
    },
    {
      "cell_type": "code",
      "execution_count": 1,
      "metadata": {
        "colab": {
          "base_uri": "https://localhost:8080/"
        },
        "id": "YtUuSknlP8yU",
        "outputId": "d2879cf8-c0a0-494b-b9a6-de677837d58b"
      },
      "outputs": [
        {
          "output_type": "stream",
          "name": "stdout",
          "text": [
            "🚀 Starting setup...\n",
            "  Preparing metadata (setup.py) ... \u001b[?25l\u001b[?25hdone\n",
            "\u001b[2K   \u001b[90m━━━━━━━━━━━━━━━━━━━━━━━━━━━━━━━━━━━━━━━━\u001b[0m \u001b[32m2.9/2.9 MB\u001b[0m \u001b[31m57.9 MB/s\u001b[0m eta \u001b[36m0:00:00\u001b[0m\n",
            "\u001b[2K   \u001b[90m━━━━━━━━━━━━━━━━━━━━━━━━━━━━━━━━━━━━━━━━\u001b[0m \u001b[32m363.4/363.4 MB\u001b[0m \u001b[31m3.8 MB/s\u001b[0m eta \u001b[36m0:00:00\u001b[0m\n",
            "\u001b[2K   \u001b[90m━━━━━━━━━━━━━━━━━━━━━━━━━━━━━━━━━━━━━━━━\u001b[0m \u001b[32m13.8/13.8 MB\u001b[0m \u001b[31m91.3 MB/s\u001b[0m eta \u001b[36m0:00:00\u001b[0m\n",
            "\u001b[2K   \u001b[90m━━━━━━━━━━━━━━━━━━━━━━━━━━━━━━━━━━━━━━━━\u001b[0m \u001b[32m24.6/24.6 MB\u001b[0m \u001b[31m71.0 MB/s\u001b[0m eta \u001b[36m0:00:00\u001b[0m\n",
            "\u001b[2K   \u001b[90m━━━━━━━━━━━━━━━━━━━━━━━━━━━━━━━━━━━━━━━━\u001b[0m \u001b[32m883.7/883.7 kB\u001b[0m \u001b[31m43.3 MB/s\u001b[0m eta \u001b[36m0:00:00\u001b[0m\n",
            "\u001b[2K   \u001b[90m━━━━━━━━━━━━━━━━━━━━━━━━━━━━━━━━━━━━━━━━\u001b[0m \u001b[32m664.8/664.8 MB\u001b[0m \u001b[31m1.3 MB/s\u001b[0m eta \u001b[36m0:00:00\u001b[0m\n",
            "\u001b[2K   \u001b[90m━━━━━━━━━━━━━━━━━━━━━━━━━━━━━━━━━━━━━━━━\u001b[0m \u001b[32m211.5/211.5 MB\u001b[0m \u001b[31m5.6 MB/s\u001b[0m eta \u001b[36m0:00:00\u001b[0m\n",
            "\u001b[2K   \u001b[90m━━━━━━━━━━━━━━━━━━━━━━━━━━━━━━━━━━━━━━━━\u001b[0m \u001b[32m56.3/56.3 MB\u001b[0m \u001b[31m12.8 MB/s\u001b[0m eta \u001b[36m0:00:00\u001b[0m\n",
            "\u001b[2K   \u001b[90m━━━━━━━━━━━━━━━━━━━━━━━━━━━━━━━━━━━━━━━━\u001b[0m \u001b[32m127.9/127.9 MB\u001b[0m \u001b[31m7.2 MB/s\u001b[0m eta \u001b[36m0:00:00\u001b[0m\n",
            "\u001b[2K   \u001b[90m━━━━━━━━━━━━━━━━━━━━━━━━━━━━━━━━━━━━━━━━\u001b[0m \u001b[32m207.5/207.5 MB\u001b[0m \u001b[31m5.5 MB/s\u001b[0m eta \u001b[36m0:00:00\u001b[0m\n",
            "\u001b[2K   \u001b[90m━━━━━━━━━━━━━━━━━━━━━━━━━━━━━━━━━━━━━━━━\u001b[0m \u001b[32m188.7/188.7 MB\u001b[0m \u001b[31m6.8 MB/s\u001b[0m eta \u001b[36m0:00:00\u001b[0m\n",
            "\u001b[2K   \u001b[90m━━━━━━━━━━━━━━━━━━━━━━━━━━━━━━━━━━━━━━━━\u001b[0m \u001b[32m21.1/21.1 MB\u001b[0m \u001b[31m105.5 MB/s\u001b[0m eta \u001b[36m0:00:00\u001b[0m\n",
            "\u001b[2K   \u001b[90m━━━━━━━━━━━━━━━━━━━━━━━━━━━━━━━━━━━━━━━━\u001b[0m \u001b[32m24.1/24.1 MB\u001b[0m \u001b[31m94.0 MB/s\u001b[0m eta \u001b[36m0:00:00\u001b[0m\n",
            "\u001b[2K   \u001b[90m━━━━━━━━━━━━━━━━━━━━━━━━━━━━━━━━━━━━━━━━\u001b[0m \u001b[32m180.7/180.7 kB\u001b[0m \u001b[31m17.2 MB/s\u001b[0m eta \u001b[36m0:00:00\u001b[0m\n",
            "\u001b[2K   \u001b[90m━━━━━━━━━━━━━━━━━━━━━━━━━━━━━━━━━━━━━━━━\u001b[0m \u001b[32m969.6/969.6 kB\u001b[0m \u001b[31m62.9 MB/s\u001b[0m eta \u001b[36m0:00:00\u001b[0m\n",
            "\u001b[2K   \u001b[90m━━━━━━━━━━━━━━━━━━━━━━━━━━━━━━━━━━━━━━━━\u001b[0m \u001b[32m292.9/292.9 kB\u001b[0m \u001b[31m25.1 MB/s\u001b[0m eta \u001b[36m0:00:00\u001b[0m\n",
            "\u001b[?25h  Building wheel for paraocr (setup.py) ... \u001b[?25l\u001b[?25hdone\n",
            "\n",
            "✅ Setup complete! You can now proceed to the next step.\n"
          ]
        }
      ],
      "source": [
        "# @title Step 1: Setup and Installation\n",
        "# @markdown This cell will install the `paraocr` library from GitHub repository and all necessary dependencies.\n",
        "# @markdown It will also install Gradio for the user interface.\n",
        "\n",
        "# --- Configuration ---\n",
        "\n",
        "GIT_REPO_URL = \"https://github.com/phuocnguyen90/paraOCR.git\"\n",
        "\n",
        "print(\"🚀 Starting setup...\")\n",
        "\n",
        "# Install the paraocr library directly from GitHub\n",
        "!pip install -U git+{GIT_REPO_URL} -q\n",
        "\n",
        "# Install Gradio for the UI\n",
        "!pip install gradio -q\n",
        "\n",
        "print(\"\\n✅ Setup complete! You can now proceed to the next step.\")"
      ]
    },
    {
      "cell_type": "code",
      "source": [
        "# @title Step 2: Connect with Google Drive\n",
        "# @markdown This cell will open a pop up tab asking permission to connect with your Google Drive to store processed data\n",
        "\n",
        "from google.colab import drive\n",
        "from pathlib import Path\n",
        "\n",
        "# Mount Drive\n",
        "drive.mount('/content/drive')\n",
        "\n",
        "# Workspace paths\n",
        "GDRIVE_WORKING_DIR = Path('/content/drive/MyDrive/paraOCR_Workspace')\n",
        "INPUT_DATA_DIR = GDRIVE_WORKING_DIR / \"input_data\"\n",
        "OUTPUT_DIR = GDRIVE_WORKING_DIR / \"output\"\n",
        "\n",
        "# Create all parents\n",
        "GDRIVE_WORKING_DIR.mkdir(parents=True, exist_ok=True)\n",
        "INPUT_DATA_DIR.mkdir(parents=True, exist_ok=True)\n",
        "OUTPUT_DIR.mkdir(parents=True, exist_ok=True)\n",
        "\n",
        "print(\"OK, workspace ready at:\", GDRIVE_WORKING_DIR)"
      ],
      "metadata": {
        "colab": {
          "base_uri": "https://localhost:8080/"
        },
        "id": "vHbNPfW3Qanb",
        "outputId": "9a265603-1ba6-445d-c033-991ec9952a99"
      },
      "execution_count": 2,
      "outputs": [
        {
          "output_type": "stream",
          "name": "stdout",
          "text": [
            "Mounted at /content/drive\n",
            "OK, workspace ready at: /content/drive/MyDrive/paraOCR_Workspace\n"
          ]
        }
      ]
    },
    {
      "cell_type": "code",
      "source": [
        "from paraocr.webui import launch_webui\n",
        "launch_webui()\n"
      ],
      "metadata": {
        "colab": {
          "base_uri": "https://localhost:8080/",
          "height": 1000
        },
        "id": "oGOfmb3Ot3Li",
        "outputId": "c7d99ce1-9cf3-43ec-ccf2-a003c2fd99a4"
      },
      "execution_count": 3,
      "outputs": [
        {
          "output_type": "stream",
          "name": "stdout",
          "text": [
            "Colab notebook detected. This cell will run indefinitely so that you can see errors and logs. To turn off, set debug=False in launch().\n",
            "* Running on public URL: https://daa33f47a1ce62efe8.gradio.live\n",
            "\n",
            "This share link expires in 1 week. For free permanent hosting and GPU upgrades, run `gradio deploy` from the terminal in the working directory to deploy to Hugging Face Spaces (https://huggingface.co/spaces)\n"
          ]
        },
        {
          "output_type": "display_data",
          "data": {
            "text/plain": [
              "<IPython.core.display.HTML object>"
            ],
            "text/html": [
              "<div><iframe src=\"https://daa33f47a1ce62efe8.gradio.live\" width=\"100%\" height=\"500\" allow=\"autoplay; camera; microphone; clipboard-read; clipboard-write;\" frameborder=\"0\" allowfullscreen></iframe></div>"
            ]
          },
          "metadata": {}
        },
        {
          "output_type": "stream",
          "name": "stderr",
          "text": [
            "INFO:paraocr:Workspace: /content/drive/MyDrive/paraOCR_Workspace\n",
            "INFO:paraocr:Starting OCR with languages: vi, en\n",
            "PROGRESS:paraocr:scan start\n",
            "INFO:paraocr:Run started\n",
            "PROGRESS:paraocr:scan start\n",
            "Scanning source files: 100%|██████████| 2/2 [00:00<00:00, 23.64it/s]\n",
            "INFO:paraocr:Created 10 page level tasks for parallel processing\n",
            "PROGRESS:paraocr:page tasks created\n",
            "INFO:paraocr:Dispatching tasks for layout analysis\n",
            "PROGRESS:paraocr:dispatch start\n",
            "Analyzing Page Layouts:   0%|          | 0/10 [00:00<?, ?it/s]PROGRESS:paraocr:dispatch progress\n",
            "Analyzing Page Layouts:  10%|█         | 1/10 [00:00<00:06,  1.37it/s]PROGRESS:paraocr:dispatch progress\n",
            "PROGRESS:paraocr:dispatch progress\n",
            "PROGRESS:paraocr:dispatch progress\n",
            "PROGRESS:paraocr:dispatch progress\n",
            "PROGRESS:paraocr:dispatch progress\n",
            "PROGRESS:paraocr:dispatch progress\n",
            "PROGRESS:paraocr:dispatch progress\n",
            "PROGRESS:paraocr:dispatch progress\n",
            "PROGRESS:paraocr:dispatch progress\n",
            "Analyzing Page Layouts: 100%|██████████| 10/10 [00:00<00:00, 13.47it/s]\n",
            "INFO:paraocr:Starting parallel processing with 2 GPU workers\n",
            "PROGRESS:paraocr:render start\n",
            "Rendering Pages (CPU):   0%|          | 0/10 [00:00<?, ?it/s]PROGRESS:paraocr:render progress\n",
            "Rendering Pages (CPU):  10%|█         | 1/10 [00:13<01:57, 13.07s/it]PROGRESS:paraocr:render progress\n",
            "PROGRESS:paraocr:render progress\n",
            "PROGRESS:paraocr:render progress\n",
            "PROGRESS:paraocr:render progress\n",
            "PROGRESS:paraocr:render progress\n",
            "PROGRESS:paraocr:render progress\n",
            "PROGRESS:paraocr:render progress\n",
            "PROGRESS:paraocr:render progress\n",
            "PROGRESS:paraocr:render progress\n",
            "Rendering Pages (CPU): 100%|██████████| 10/10 [00:13<00:00,  1.31s/it]\n",
            "INFO:paraocr:Aggregating GPU results\n",
            "PROGRESS:paraocr:aggregate start\n",
            "Aggregating Batches:   0%|          | 0/2 [00:00<?, ?it/s]PROGRESS:paraocr:aggregate progress\n",
            "Aggregating Batches:  50%|█████     | 1/2 [00:55<00:55, 55.42s/it]PROGRESS:paraocr:aggregate progress\n",
            "Aggregating Batches: 100%|██████████| 2/2 [00:55<00:00, 27.71s/it]\n",
            "INFO:paraocr:Aggregating and writing final results\n",
            "PROGRESS:paraocr:final write\n",
            "INFO:paraocr:Run finished\n",
            "PROGRESS:paraocr:done\n"
          ]
        },
        {
          "output_type": "stream",
          "name": "stdout",
          "text": [
            "Keyboard interruption in main thread... closing server.\n",
            "Killing tunnel 127.0.0.1:7860 <> https://daa33f47a1ce62efe8.gradio.live\n"
          ]
        }
      ]
    },
    {
      "cell_type": "code",
      "source": [],
      "metadata": {
        "id": "ez7E1-MdutYF"
      },
      "execution_count": null,
      "outputs": []
    },
    {
      "cell_type": "code",
      "source": [
        "# @title Force reinstall paraocr from GitHub (just in case )\n",
        "import sys\n",
        "import pkg_resources\n",
        "\n",
        "# Uninstall paraocr if it exists\n",
        "try:\n",
        "    dist = pkg_resources.get_distribution(\"paraocr\")\n",
        "    print(f\"Uninstalling existing paraocr v{dist.version}...\")\n",
        "    !pip uninstall -y paraocr\n",
        "except pkg_resources.DistributionNotFound:\n",
        "    print(\"paraocr is not currently installed.\")\n",
        "\n",
        "# Force reinstall from GitHub without using cache\n",
        "GIT_REPO_URL = \"https://github.com/phuocnguyen90/paraOCR.git\"\n",
        "\n",
        "print(\"\\nInstalling latest paraocr from GitHub (no cache)...\")\n",
        "!pip install --no-cache-dir -U git+{GIT_REPO_URL}\n",
        "\n",
        "print(\"\\n✅ paraocr reinstalled successfully!\")\n"
      ],
      "metadata": {
        "colab": {
          "base_uri": "https://localhost:8080/",
          "height": 1000
        },
        "id": "4Scjk41A6ZIO",
        "outputId": "43752775-643c-4b4d-d6e7-5ee59011a62f",
        "cellView": "form"
      },
      "execution_count": null,
      "outputs": [
        {
          "output_type": "stream",
          "name": "stdout",
          "text": [
            "Uninstalling existing paraocr v2.0.1...\n",
            "Found existing installation: paraocr 2.0.1\n",
            "Uninstalling paraocr-2.0.1:\n",
            "  Successfully uninstalled paraocr-2.0.1\n",
            "\n",
            "Installing latest paraocr from GitHub (no cache)...\n",
            "Collecting git+https://github.com/phuocnguyen90/paraOCR.git\n",
            "  Cloning https://github.com/phuocnguyen90/paraOCR.git to /tmp/pip-req-build-6g5lskqd\n",
            "  Running command git clone --filter=blob:none --quiet https://github.com/phuocnguyen90/paraOCR.git /tmp/pip-req-build-6g5lskqd\n",
            "  Resolved https://github.com/phuocnguyen90/paraOCR.git to commit f7d4872a8913ce29e78b8c84357675d57b709448\n",
            "  Preparing metadata (setup.py) ... \u001b[?25l\u001b[?25hdone\n",
            "Requirement already satisfied: easyocr in /usr/local/lib/python3.11/dist-packages (from paraocr==2.0.1) (1.7.2)\n",
            "Requirement already satisfied: torch in /usr/local/lib/python3.11/dist-packages (from paraocr==2.0.1) (2.6.0+cu124)\n",
            "Requirement already satisfied: torchvision in /usr/local/lib/python3.11/dist-packages (from paraocr==2.0.1) (0.21.0+cu124)\n",
            "Requirement already satisfied: torchaudio in /usr/local/lib/python3.11/dist-packages (from paraocr==2.0.1) (2.6.0+cu124)\n",
            "Requirement already satisfied: PyMuPDF in /usr/local/lib/python3.11/dist-packages (from paraocr==2.0.1) (1.26.3)\n",
            "Requirement already satisfied: tqdm in /usr/local/lib/python3.11/dist-packages (from paraocr==2.0.1) (4.67.1)\n",
            "Requirement already satisfied: Pillow in /usr/local/lib/python3.11/dist-packages (from paraocr==2.0.1) (11.3.0)\n",
            "Requirement already satisfied: numpy in /usr/local/lib/python3.11/dist-packages (from paraocr==2.0.1) (2.0.2)\n",
            "Requirement already satisfied: opencv-python-headless in /usr/local/lib/python3.11/dist-packages (from easyocr->paraocr==2.0.1) (4.12.0.88)\n",
            "Requirement already satisfied: scipy in /usr/local/lib/python3.11/dist-packages (from easyocr->paraocr==2.0.1) (1.16.1)\n",
            "Requirement already satisfied: scikit-image in /usr/local/lib/python3.11/dist-packages (from easyocr->paraocr==2.0.1) (0.25.2)\n",
            "Requirement already satisfied: python-bidi in /usr/local/lib/python3.11/dist-packages (from easyocr->paraocr==2.0.1) (0.6.6)\n",
            "Requirement already satisfied: PyYAML in /usr/local/lib/python3.11/dist-packages (from easyocr->paraocr==2.0.1) (6.0.2)\n",
            "Requirement already satisfied: Shapely in /usr/local/lib/python3.11/dist-packages (from easyocr->paraocr==2.0.1) (2.1.1)\n",
            "Requirement already satisfied: pyclipper in /usr/local/lib/python3.11/dist-packages (from easyocr->paraocr==2.0.1) (1.3.0.post6)\n",
            "Requirement already satisfied: ninja in /usr/local/lib/python3.11/dist-packages (from easyocr->paraocr==2.0.1) (1.11.1.4)\n",
            "Requirement already satisfied: filelock in /usr/local/lib/python3.11/dist-packages (from torch->paraocr==2.0.1) (3.18.0)\n",
            "Requirement already satisfied: typing-extensions>=4.10.0 in /usr/local/lib/python3.11/dist-packages (from torch->paraocr==2.0.1) (4.14.1)\n",
            "Requirement already satisfied: networkx in /usr/local/lib/python3.11/dist-packages (from torch->paraocr==2.0.1) (3.5)\n",
            "Requirement already satisfied: jinja2 in /usr/local/lib/python3.11/dist-packages (from torch->paraocr==2.0.1) (3.1.6)\n",
            "Requirement already satisfied: fsspec in /usr/local/lib/python3.11/dist-packages (from torch->paraocr==2.0.1) (2025.3.0)\n",
            "Requirement already satisfied: nvidia-cuda-nvrtc-cu12==12.4.127 in /usr/local/lib/python3.11/dist-packages (from torch->paraocr==2.0.1) (12.4.127)\n",
            "Requirement already satisfied: nvidia-cuda-runtime-cu12==12.4.127 in /usr/local/lib/python3.11/dist-packages (from torch->paraocr==2.0.1) (12.4.127)\n",
            "Requirement already satisfied: nvidia-cuda-cupti-cu12==12.4.127 in /usr/local/lib/python3.11/dist-packages (from torch->paraocr==2.0.1) (12.4.127)\n",
            "Requirement already satisfied: nvidia-cudnn-cu12==9.1.0.70 in /usr/local/lib/python3.11/dist-packages (from torch->paraocr==2.0.1) (9.1.0.70)\n",
            "Requirement already satisfied: nvidia-cublas-cu12==12.4.5.8 in /usr/local/lib/python3.11/dist-packages (from torch->paraocr==2.0.1) (12.4.5.8)\n",
            "Requirement already satisfied: nvidia-cufft-cu12==11.2.1.3 in /usr/local/lib/python3.11/dist-packages (from torch->paraocr==2.0.1) (11.2.1.3)\n",
            "Requirement already satisfied: nvidia-curand-cu12==10.3.5.147 in /usr/local/lib/python3.11/dist-packages (from torch->paraocr==2.0.1) (10.3.5.147)\n",
            "Requirement already satisfied: nvidia-cusolver-cu12==11.6.1.9 in /usr/local/lib/python3.11/dist-packages (from torch->paraocr==2.0.1) (11.6.1.9)\n",
            "Requirement already satisfied: nvidia-cusparse-cu12==12.3.1.170 in /usr/local/lib/python3.11/dist-packages (from torch->paraocr==2.0.1) (12.3.1.170)\n",
            "Requirement already satisfied: nvidia-cusparselt-cu12==0.6.2 in /usr/local/lib/python3.11/dist-packages (from torch->paraocr==2.0.1) (0.6.2)\n",
            "Requirement already satisfied: nvidia-nccl-cu12==2.21.5 in /usr/local/lib/python3.11/dist-packages (from torch->paraocr==2.0.1) (2.21.5)\n",
            "Requirement already satisfied: nvidia-nvtx-cu12==12.4.127 in /usr/local/lib/python3.11/dist-packages (from torch->paraocr==2.0.1) (12.4.127)\n",
            "Requirement already satisfied: nvidia-nvjitlink-cu12==12.4.127 in /usr/local/lib/python3.11/dist-packages (from torch->paraocr==2.0.1) (12.4.127)\n",
            "Requirement already satisfied: triton==3.2.0 in /usr/local/lib/python3.11/dist-packages (from torch->paraocr==2.0.1) (3.2.0)\n",
            "Requirement already satisfied: sympy==1.13.1 in /usr/local/lib/python3.11/dist-packages (from torch->paraocr==2.0.1) (1.13.1)\n",
            "Requirement already satisfied: mpmath<1.4,>=1.1.0 in /usr/local/lib/python3.11/dist-packages (from sympy==1.13.1->torch->paraocr==2.0.1) (1.3.0)\n",
            "Requirement already satisfied: MarkupSafe>=2.0 in /usr/local/lib/python3.11/dist-packages (from jinja2->torch->paraocr==2.0.1) (3.0.2)\n",
            "Requirement already satisfied: imageio!=2.35.0,>=2.33 in /usr/local/lib/python3.11/dist-packages (from scikit-image->easyocr->paraocr==2.0.1) (2.37.0)\n",
            "Requirement already satisfied: tifffile>=2022.8.12 in /usr/local/lib/python3.11/dist-packages (from scikit-image->easyocr->paraocr==2.0.1) (2025.6.11)\n",
            "Requirement already satisfied: packaging>=21 in /usr/local/lib/python3.11/dist-packages (from scikit-image->easyocr->paraocr==2.0.1) (25.0)\n",
            "Requirement already satisfied: lazy-loader>=0.4 in /usr/local/lib/python3.11/dist-packages (from scikit-image->easyocr->paraocr==2.0.1) (0.4)\n",
            "Building wheels for collected packages: paraocr\n",
            "  Building wheel for paraocr (setup.py) ... \u001b[?25l\u001b[?25hdone\n",
            "  Created wheel for paraocr: filename=paraocr-2.0.1-py3-none-any.whl size=29814 sha256=3b0a01d0b0086d148853dd51842ff17815306cf4f7094f18e153d7a44ad339bb\n",
            "  Stored in directory: /tmp/pip-ephem-wheel-cache-zayo3ye2/wheels/7b/b0/a4/e78928aeab11620d75f413555860218d10c86c9578617c1dcd\n",
            "Successfully built paraocr\n",
            "Installing collected packages: paraocr\n",
            "Successfully installed paraocr-2.0.1\n"
          ]
        },
        {
          "output_type": "display_data",
          "data": {
            "application/vnd.colab-display-data+json": {
              "pip_warning": {
                "packages": [
                  "paraocr"
                ]
              },
              "id": "eb37bd4ab34d4170b8ac9ba7dff61527"
            }
          },
          "metadata": {}
        },
        {
          "output_type": "stream",
          "name": "stdout",
          "text": [
            "\n",
            "✅ paraocr reinstalled successfully!\n"
          ]
        }
      ]
    }
  ]
}